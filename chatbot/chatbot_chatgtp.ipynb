{
 "cells": [
  {
   "cell_type": "code",
   "execution_count": 44,
   "metadata": {},
   "outputs": [],
   "source": [
    "import streamlit as st\n",
    "import pandas as pd\n",
    "import nltk\n",
    "from nltk.tokenize import word_tokenize\n",
    "from nltk.corpus import stopwords\n",
    "from nltk.stem import WordNetLemmatizer\n",
    "from sklearn.feature_extraction.text import TfidfVectorizer\n",
    "from sklearn.metrics.pairwise import cosine_similarity\n",
    "import numpy as np\n",
    "from sklearn.model_selection import train_test_split\n",
    "from keras.preprocessing.text import Tokenizer\n",
    "from keras.preprocessing.sequence import pad_sequences\n",
    "from keras.models import Sequential\n",
    "from keras.layers import Dense, Embedding, LSTM, SpatialDropout1D\n"
   ]
  },
  {
   "cell_type": "code",
   "execution_count": 45,
   "metadata": {},
   "outputs": [],
   "source": [
    "# Chargement du dataset\n",
    "data = pd.read_csv('Diseases_Symptoms.csv')"
   ]
  },
  {
   "cell_type": "code",
   "execution_count": 46,
   "metadata": {},
   "outputs": [
    {
     "data": {
      "text/html": [
       "<div>\n",
       "<style scoped>\n",
       "    .dataframe tbody tr th:only-of-type {\n",
       "        vertical-align: middle;\n",
       "    }\n",
       "\n",
       "    .dataframe tbody tr th {\n",
       "        vertical-align: top;\n",
       "    }\n",
       "\n",
       "    .dataframe thead th {\n",
       "        text-align: right;\n",
       "    }\n",
       "</style>\n",
       "<table border=\"1\" class=\"dataframe\">\n",
       "  <thead>\n",
       "    <tr style=\"text-align: right;\">\n",
       "      <th></th>\n",
       "      <th>Code</th>\n",
       "      <th>Name</th>\n",
       "      <th>Symptoms</th>\n",
       "      <th>Treatments</th>\n",
       "    </tr>\n",
       "  </thead>\n",
       "  <tbody>\n",
       "    <tr>\n",
       "      <th>0</th>\n",
       "      <td>1</td>\n",
       "      <td>Panic disorder</td>\n",
       "      <td>Palpitations, Sweating, Trembling, Shortness o...</td>\n",
       "      <td>Antidepressant medications, Cognitive Behavior...</td>\n",
       "    </tr>\n",
       "    <tr>\n",
       "      <th>1</th>\n",
       "      <td>2</td>\n",
       "      <td>Vocal cord polyp</td>\n",
       "      <td>Hoarseness, Vocal Changes, Vocal Fatigue</td>\n",
       "      <td>Voice Rest, Speech Therapy, Surgical Removal</td>\n",
       "    </tr>\n",
       "    <tr>\n",
       "      <th>2</th>\n",
       "      <td>3</td>\n",
       "      <td>Turner syndrome</td>\n",
       "      <td>Short stature, Gonadal dysgenesis, Webbed neck...</td>\n",
       "      <td>Growth hormone therapy, Estrogen replacement t...</td>\n",
       "    </tr>\n",
       "    <tr>\n",
       "      <th>3</th>\n",
       "      <td>4</td>\n",
       "      <td>Cryptorchidism</td>\n",
       "      <td>Absence or undescended testicle(s), empty scro...</td>\n",
       "      <td>Observation and monitoring (in cases of mild o...</td>\n",
       "    </tr>\n",
       "    <tr>\n",
       "      <th>4</th>\n",
       "      <td>5</td>\n",
       "      <td>Ethylene glycol poisoning-1</td>\n",
       "      <td>Nausea, vomiting, abdominal pain, General mala...</td>\n",
       "      <td>Supportive Measures, Gastric Decontamination, ...</td>\n",
       "    </tr>\n",
       "    <tr>\n",
       "      <th>5</th>\n",
       "      <td>6</td>\n",
       "      <td>Ethylene glycol poisoning-2</td>\n",
       "      <td>Metabolic acidosis, apid breathing, rapid hear...</td>\n",
       "      <td>Blood tests, Supportive Measures, Gastric Deco...</td>\n",
       "    </tr>\n",
       "    <tr>\n",
       "      <th>6</th>\n",
       "      <td>7</td>\n",
       "      <td>Ethylene glycol poisoning-3</td>\n",
       "      <td>Decreased urine output, swelling in the legs a...</td>\n",
       "      <td>Supportive Measures, Gastric Decontamination, ...</td>\n",
       "    </tr>\n",
       "    <tr>\n",
       "      <th>7</th>\n",
       "      <td>8</td>\n",
       "      <td>Atrophic vaginitis</td>\n",
       "      <td>Vaginal dryness, Vaginal burning, frequent uri...</td>\n",
       "      <td>Vaginal moisturizers, Vaginal estrogen therapy...</td>\n",
       "    </tr>\n",
       "    <tr>\n",
       "      <th>8</th>\n",
       "      <td>9</td>\n",
       "      <td>Fracture</td>\n",
       "      <td>Pain, Swelling, Bruising, Deformity, Difficult...</td>\n",
       "      <td>Immobilization, Surgery, Rehabilitation</td>\n",
       "    </tr>\n",
       "    <tr>\n",
       "      <th>9</th>\n",
       "      <td>10</td>\n",
       "      <td>Cellulitis</td>\n",
       "      <td>Redness, Pain, tenderness, Swelling, Skin chan...</td>\n",
       "      <td>Antibiotics, Warm compresses, immobilization, ...</td>\n",
       "    </tr>\n",
       "  </tbody>\n",
       "</table>\n",
       "</div>"
      ],
      "text/plain": [
       "   Code                         Name  \\\n",
       "0     1               Panic disorder   \n",
       "1     2             Vocal cord polyp   \n",
       "2     3              Turner syndrome   \n",
       "3     4               Cryptorchidism   \n",
       "4     5  Ethylene glycol poisoning-1   \n",
       "5     6  Ethylene glycol poisoning-2   \n",
       "6     7  Ethylene glycol poisoning-3   \n",
       "7     8           Atrophic vaginitis   \n",
       "8     9                     Fracture   \n",
       "9    10                   Cellulitis   \n",
       "\n",
       "                                            Symptoms  \\\n",
       "0  Palpitations, Sweating, Trembling, Shortness o...   \n",
       "1           Hoarseness, Vocal Changes, Vocal Fatigue   \n",
       "2  Short stature, Gonadal dysgenesis, Webbed neck...   \n",
       "3  Absence or undescended testicle(s), empty scro...   \n",
       "4  Nausea, vomiting, abdominal pain, General mala...   \n",
       "5  Metabolic acidosis, apid breathing, rapid hear...   \n",
       "6  Decreased urine output, swelling in the legs a...   \n",
       "7  Vaginal dryness, Vaginal burning, frequent uri...   \n",
       "8  Pain, Swelling, Bruising, Deformity, Difficult...   \n",
       "9  Redness, Pain, tenderness, Swelling, Skin chan...   \n",
       "\n",
       "                                          Treatments  \n",
       "0  Antidepressant medications, Cognitive Behavior...  \n",
       "1       Voice Rest, Speech Therapy, Surgical Removal  \n",
       "2  Growth hormone therapy, Estrogen replacement t...  \n",
       "3  Observation and monitoring (in cases of mild o...  \n",
       "4  Supportive Measures, Gastric Decontamination, ...  \n",
       "5  Blood tests, Supportive Measures, Gastric Deco...  \n",
       "6  Supportive Measures, Gastric Decontamination, ...  \n",
       "7  Vaginal moisturizers, Vaginal estrogen therapy...  \n",
       "8            Immobilization, Surgery, Rehabilitation  \n",
       "9  Antibiotics, Warm compresses, immobilization, ...  "
      ]
     },
     "execution_count": 46,
     "metadata": {},
     "output_type": "execute_result"
    }
   ],
   "source": [
    "data.head(10)"
   ]
  },
  {
   "cell_type": "code",
   "execution_count": 47,
   "metadata": {},
   "outputs": [],
   "source": [
    "# Convert all text columns to lowercase\n",
    "df = data.apply(lambda x: x.str.lower() if x.dtype == 'object' else x)"
   ]
  },
  {
   "cell_type": "code",
   "execution_count": 48,
   "metadata": {},
   "outputs": [
    {
     "data": {
      "text/html": [
       "<div>\n",
       "<style scoped>\n",
       "    .dataframe tbody tr th:only-of-type {\n",
       "        vertical-align: middle;\n",
       "    }\n",
       "\n",
       "    .dataframe tbody tr th {\n",
       "        vertical-align: top;\n",
       "    }\n",
       "\n",
       "    .dataframe thead th {\n",
       "        text-align: right;\n",
       "    }\n",
       "</style>\n",
       "<table border=\"1\" class=\"dataframe\">\n",
       "  <thead>\n",
       "    <tr style=\"text-align: right;\">\n",
       "      <th></th>\n",
       "      <th>Code</th>\n",
       "      <th>Name</th>\n",
       "      <th>Symptoms</th>\n",
       "      <th>Treatments</th>\n",
       "    </tr>\n",
       "  </thead>\n",
       "  <tbody>\n",
       "    <tr>\n",
       "      <th>0</th>\n",
       "      <td>1</td>\n",
       "      <td>panic disorder</td>\n",
       "      <td>palpitations, sweating, trembling, shortness o...</td>\n",
       "      <td>antidepressant medications, cognitive behavior...</td>\n",
       "    </tr>\n",
       "    <tr>\n",
       "      <th>1</th>\n",
       "      <td>2</td>\n",
       "      <td>vocal cord polyp</td>\n",
       "      <td>hoarseness, vocal changes, vocal fatigue</td>\n",
       "      <td>voice rest, speech therapy, surgical removal</td>\n",
       "    </tr>\n",
       "    <tr>\n",
       "      <th>2</th>\n",
       "      <td>3</td>\n",
       "      <td>turner syndrome</td>\n",
       "      <td>short stature, gonadal dysgenesis, webbed neck...</td>\n",
       "      <td>growth hormone therapy, estrogen replacement t...</td>\n",
       "    </tr>\n",
       "    <tr>\n",
       "      <th>3</th>\n",
       "      <td>4</td>\n",
       "      <td>cryptorchidism</td>\n",
       "      <td>absence or undescended testicle(s), empty scro...</td>\n",
       "      <td>observation and monitoring (in cases of mild o...</td>\n",
       "    </tr>\n",
       "    <tr>\n",
       "      <th>4</th>\n",
       "      <td>5</td>\n",
       "      <td>ethylene glycol poisoning-1</td>\n",
       "      <td>nausea, vomiting, abdominal pain, general mala...</td>\n",
       "      <td>supportive measures, gastric decontamination, ...</td>\n",
       "    </tr>\n",
       "    <tr>\n",
       "      <th>5</th>\n",
       "      <td>6</td>\n",
       "      <td>ethylene glycol poisoning-2</td>\n",
       "      <td>metabolic acidosis, apid breathing, rapid hear...</td>\n",
       "      <td>blood tests, supportive measures, gastric deco...</td>\n",
       "    </tr>\n",
       "    <tr>\n",
       "      <th>6</th>\n",
       "      <td>7</td>\n",
       "      <td>ethylene glycol poisoning-3</td>\n",
       "      <td>decreased urine output, swelling in the legs a...</td>\n",
       "      <td>supportive measures, gastric decontamination, ...</td>\n",
       "    </tr>\n",
       "    <tr>\n",
       "      <th>7</th>\n",
       "      <td>8</td>\n",
       "      <td>atrophic vaginitis</td>\n",
       "      <td>vaginal dryness, vaginal burning, frequent uri...</td>\n",
       "      <td>vaginal moisturizers, vaginal estrogen therapy...</td>\n",
       "    </tr>\n",
       "    <tr>\n",
       "      <th>8</th>\n",
       "      <td>9</td>\n",
       "      <td>fracture</td>\n",
       "      <td>pain, swelling, bruising, deformity, difficult...</td>\n",
       "      <td>immobilization, surgery, rehabilitation</td>\n",
       "    </tr>\n",
       "    <tr>\n",
       "      <th>9</th>\n",
       "      <td>10</td>\n",
       "      <td>cellulitis</td>\n",
       "      <td>redness, pain, tenderness, swelling, skin chan...</td>\n",
       "      <td>antibiotics, warm compresses, immobilization, ...</td>\n",
       "    </tr>\n",
       "  </tbody>\n",
       "</table>\n",
       "</div>"
      ],
      "text/plain": [
       "   Code                         Name  \\\n",
       "0     1               panic disorder   \n",
       "1     2             vocal cord polyp   \n",
       "2     3              turner syndrome   \n",
       "3     4               cryptorchidism   \n",
       "4     5  ethylene glycol poisoning-1   \n",
       "5     6  ethylene glycol poisoning-2   \n",
       "6     7  ethylene glycol poisoning-3   \n",
       "7     8           atrophic vaginitis   \n",
       "8     9                     fracture   \n",
       "9    10                   cellulitis   \n",
       "\n",
       "                                            Symptoms  \\\n",
       "0  palpitations, sweating, trembling, shortness o...   \n",
       "1           hoarseness, vocal changes, vocal fatigue   \n",
       "2  short stature, gonadal dysgenesis, webbed neck...   \n",
       "3  absence or undescended testicle(s), empty scro...   \n",
       "4  nausea, vomiting, abdominal pain, general mala...   \n",
       "5  metabolic acidosis, apid breathing, rapid hear...   \n",
       "6  decreased urine output, swelling in the legs a...   \n",
       "7  vaginal dryness, vaginal burning, frequent uri...   \n",
       "8  pain, swelling, bruising, deformity, difficult...   \n",
       "9  redness, pain, tenderness, swelling, skin chan...   \n",
       "\n",
       "                                          Treatments  \n",
       "0  antidepressant medications, cognitive behavior...  \n",
       "1       voice rest, speech therapy, surgical removal  \n",
       "2  growth hormone therapy, estrogen replacement t...  \n",
       "3  observation and monitoring (in cases of mild o...  \n",
       "4  supportive measures, gastric decontamination, ...  \n",
       "5  blood tests, supportive measures, gastric deco...  \n",
       "6  supportive measures, gastric decontamination, ...  \n",
       "7  vaginal moisturizers, vaginal estrogen therapy...  \n",
       "8            immobilization, surgery, rehabilitation  \n",
       "9  antibiotics, warm compresses, immobilization, ...  "
      ]
     },
     "execution_count": 48,
     "metadata": {},
     "output_type": "execute_result"
    }
   ],
   "source": [
    "# Removing duplicates\n",
    "df = df.drop_duplicates()\n",
    "df.head(10)"
   ]
  },
  {
   "cell_type": "code",
   "execution_count": 49,
   "metadata": {},
   "outputs": [
    {
     "name": "stdout",
     "output_type": "stream",
     "text": [
      "<class 'pandas.core.frame.DataFrame'>\n",
      "RangeIndex: 400 entries, 0 to 399\n",
      "Data columns (total 4 columns):\n",
      " #   Column      Non-Null Count  Dtype \n",
      "---  ------      --------------  ----- \n",
      " 0   Code        400 non-null    int64 \n",
      " 1   Name        400 non-null    object\n",
      " 2   Symptoms    400 non-null    object\n",
      " 3   Treatments  399 non-null    object\n",
      "dtypes: int64(1), object(3)\n",
      "memory usage: 12.6+ KB\n",
      "None\n"
     ]
    }
   ],
   "source": [
    "# Basic info about the dataset\n",
    "print(data.info())\n",
    "\n"
   ]
  },
  {
   "cell_type": "code",
   "execution_count": 51,
   "metadata": {},
   "outputs": [],
   "source": [
    "from wordcloud import WordCloud\n",
    "import matplotlib.pyplot as plt\n",
    "\n",
    "# Concatenate all symptoms into a single string\n",
    "all_symptoms = ' '.join(data['Symptoms'])\n",
    "\n",
    "# Generate the word cloud\n",
    "wordcloud = WordCloud(width=800, height=400, background_color='white').generate(all_symptoms)\n",
    "\n",
    "# Plot the word cloud\n",
    "plt.figure(figsize=(12, 8))\n",
    "plt.imshow(wordcloud, interpolation='bilinear')\n",
    "plt.title('Word Cloud of Symptoms')\n",
    "plt.axis('off')\n",
    "plt.show()\n"
   ]
  },
  {
   "cell_type": "code",
   "execution_count": 60,
   "metadata": {},
   "outputs": [
    {
     "data": {
      "text/plain": [
       "Text(0, 0.5, 'Count')"
      ]
     },
     "execution_count": 60,
     "metadata": {},
     "output_type": "execute_result"
    }
   ],
   "source": [
    "# Count of symptoms (assuming each symptom is separated by ', ')\n",
    "symptom_counts = df['Symptoms'].str.split(', ').apply(len)\n",
    "\n",
    "# Count of symptoms\n",
    "plt.subplot(1, 3, 2)\n",
    "symptom_counts.value_counts().sort_index().plot(kind='bar', color='salmon')\n",
    "plt.title('Count of Symptoms')\n",
    "plt.xlabel('Number of Symptoms')\n",
    "plt.ylabel('Count')"
   ]
  },
  {
   "cell_type": "code",
   "execution_count": 57,
   "metadata": {},
   "outputs": [],
   "source": [
    "# Convertir les valeurs float en chaînes de caractères\n",
    "data['Symptoms'] = data['Symptoms'].astype(str)\n",
    "data['Treatments'] = data['Treatments'].astype(str)"
   ]
  },
  {
   "cell_type": "code",
   "execution_count": null,
   "metadata": {},
   "outputs": [],
   "source": [
    "# Convertir les valeurs float en chaînes de caractères\n",
    "data['Symptoms'] = data['Symptoms'].astype(str)\n",
    "data['Treatments'] = data['Treatments'].astype(str)"
   ]
  },
  {
   "cell_type": "code",
   "execution_count": 58,
   "metadata": {},
   "outputs": [],
   "source": [
    "# Nettoyage et prétraitement des données\n",
    "def preprocess_text(text):\n",
    "    # Tokenisation\n",
    "    tokens = word_tokenize(text.lower())\n",
    "    # Suppression des stopwords\n",
    "    tokens = [word for word in tokens if word not in stopwords.words('english')]\n",
    "    # Lemmatisation\n",
    "    lemmatizer = WordNetLemmatizer()\n",
    "    tokens = [lemmatizer.lemmatize(word) for word in tokens]\n",
    "    return ' '.join(tokens)\n",
    "\n",
    "\n",
    "data['Symptoms'] = data['Symptoms'].apply(preprocess_text)\n",
    "data['Treatments'] = data['Treatments'].apply(preprocess_text)"
   ]
  },
  {
   "cell_type": "code",
   "execution_count": 59,
   "metadata": {},
   "outputs": [],
   "source": [
    "# Tokenisation des textes\n",
    "max_words = 500\n",
    "tokenizer = Tokenizer(num_words=max_words, split=' ')\n",
    "tokenizer.fit_on_texts(data['Symptoms'] + ' ' + data['Treatments'] + ' ' + data['Name'])\n",
    "X = tokenizer.texts_to_sequences(data['Symptoms'] + ' ' + data['Treatments'] + ' ' + data['Name'])\n",
    "X = pad_sequences(X)"
   ]
  },
  {
   "cell_type": "code",
   "execution_count": null,
   "metadata": {},
   "outputs": [
    {
     "name": "stderr",
     "output_type": "stream",
     "text": [
      "[nltk_data] Downloading package punkt to\n",
      "[nltk_data]     C:\\Users\\patel\\AppData\\Roaming\\nltk_data...\n",
      "[nltk_data]   Package punkt is already up-to-date!\n",
      "[nltk_data] Downloading package stopwords to\n",
      "[nltk_data]     C:\\Users\\patel\\AppData\\Roaming\\nltk_data...\n",
      "[nltk_data]   Package stopwords is already up-to-date!\n",
      "[nltk_data] Downloading package wordnet to\n",
      "[nltk_data]     C:\\Users\\patel\\AppData\\Roaming\\nltk_data...\n",
      "[nltk_data]   Package wordnet is already up-to-date!\n"
     ]
    },
    {
     "name": "stdout",
     "output_type": "stream",
     "text": [
      "WARNING:tensorflow:From C:\\Users\\patel\\AppData\\Local\\Packages\\PythonSoftwareFoundation.Python.3.11_qbz5n2kfra8p0\\LocalCache\\local-packages\\Python311\\site-packages\\keras\\src\\backend.py:873: The name tf.get_default_graph is deprecated. Please use tf.compat.v1.get_default_graph instead.\n",
      "\n",
      "WARNING:tensorflow:From C:\\Users\\patel\\AppData\\Local\\Packages\\PythonSoftwareFoundation.Python.3.11_qbz5n2kfra8p0\\LocalCache\\local-packages\\Python311\\site-packages\\keras\\src\\optimizers\\__init__.py:309: The name tf.train.Optimizer is deprecated. Please use tf.compat.v1.train.Optimizer instead.\n",
      "\n"
     ]
    }
   ],
   "source": [
    "# Téléchargement des ressources NLTK\n",
    "nltk.download('punkt')\n",
    "nltk.download('stopwords')\n",
    "nltk.download('wordnet')\n",
    "\n",
    "# Création des labels\n",
    "y = pd.get_dummies(data['Code']).values\n",
    "\n",
    "# Séparation des données d'entraînement et de test\n",
    "X_train, X_test, y_train, y_test = train_test_split(X, y, test_size=0.2, random_state=42)\n",
    "\n",
    "# Définition du modèle RNN\n",
    "embedding_dim = 128\n",
    "lstm_out = 196\n",
    "\n",
    "model = Sequential()\n",
    "model.add(Embedding(max_words, embedding_dim, input_length=X.shape[1]))\n",
    "model.add(SpatialDropout1D(0.4))\n",
    "model.add(LSTM(lstm_out, dropout=0.2, recurrent_dropout=0.2))\n",
    "model.add(Dense(400, activation='softmax'))\n",
    "model.compile(loss='categorical_crossentropy', optimizer='adam', metrics=['accuracy'])"
   ]
  },
  {
   "cell_type": "code",
   "execution_count": null,
   "metadata": {},
   "outputs": [
    {
     "name": "stdout",
     "output_type": "stream",
     "text": [
      "Epoch 1/10\n",
      "WARNING:tensorflow:From C:\\Users\\patel\\AppData\\Local\\Packages\\PythonSoftwareFoundation.Python.3.11_qbz5n2kfra8p0\\LocalCache\\local-packages\\Python311\\site-packages\\keras\\src\\utils\\tf_utils.py:492: The name tf.ragged.RaggedTensorValue is deprecated. Please use tf.compat.v1.ragged.RaggedTensorValue instead.\n",
      "\n",
      "WARNING:tensorflow:From C:\\Users\\patel\\AppData\\Local\\Packages\\PythonSoftwareFoundation.Python.3.11_qbz5n2kfra8p0\\LocalCache\\local-packages\\Python311\\site-packages\\keras\\src\\engine\\base_layer_utils.py:384: The name tf.executing_eagerly_outside_functions is deprecated. Please use tf.compat.v1.executing_eagerly_outside_functions instead.\n",
      "\n",
      "10/10 - 13s - loss: 5.9947 - accuracy: 0.0000e+00 - val_loss: 6.0004 - val_accuracy: 0.0000e+00 - 13s/epoch - 1s/step\n",
      "Epoch 2/10\n",
      "10/10 - 4s - loss: 5.9800 - accuracy: 0.0250 - val_loss: 6.0166 - val_accuracy: 0.0000e+00 - 4s/epoch - 428ms/step\n",
      "Epoch 3/10\n",
      "10/10 - 4s - loss: 5.9681 - accuracy: 0.0688 - val_loss: 6.4464 - val_accuracy: 0.0000e+00 - 4s/epoch - 427ms/step\n",
      "Epoch 4/10\n",
      "10/10 - 4s - loss: 5.9088 - accuracy: 0.0063 - val_loss: 6.1176 - val_accuracy: 0.0000e+00 - 4s/epoch - 404ms/step\n",
      "Epoch 5/10\n",
      "10/10 - 4s - loss: 5.8780 - accuracy: 0.0125 - val_loss: 7.0172 - val_accuracy: 0.0000e+00 - 4s/epoch - 410ms/step\n",
      "Epoch 6/10\n",
      "10/10 - 4s - loss: 5.8077 - accuracy: 0.0063 - val_loss: 6.8610 - val_accuracy: 0.0000e+00 - 4s/epoch - 417ms/step\n",
      "Epoch 7/10\n",
      "10/10 - 5s - loss: 5.7282 - accuracy: 0.0094 - val_loss: 7.7180 - val_accuracy: 0.0000e+00 - 5s/epoch - 488ms/step\n",
      "Epoch 8/10\n",
      "10/10 - 5s - loss: 5.5704 - accuracy: 0.0094 - val_loss: 8.6622 - val_accuracy: 0.0000e+00 - 5s/epoch - 528ms/step\n",
      "Epoch 9/10\n",
      "10/10 - 7s - loss: 5.4072 - accuracy: 0.0094 - val_loss: 8.9091 - val_accuracy: 0.0000e+00 - 7s/epoch - 722ms/step\n",
      "Epoch 10/10\n",
      "10/10 - 6s - loss: 5.2188 - accuracy: 0.0063 - val_loss: 9.8046 - val_accuracy: 0.0000e+00 - 6s/epoch - 600ms/step\n"
     ]
    }
   ],
   "source": [
    "# Entraînement du modèle\n",
    "batch_size = 32\n",
    "epochs = 10\n",
    "history = model.fit(X_train, y_train, validation_data=(X_test, y_test), \n",
    "                    epochs=epochs, batch_size=batch_size, verbose=2)\n",
    "\n"
   ]
  },
  {
   "cell_type": "code",
   "execution_count": null,
   "metadata": {},
   "outputs": [
    {
     "name": "stdout",
     "output_type": "stream",
     "text": [
      "X_train shape: (320, 71)\n",
      "y_train shape: (320, 400)\n",
      "Input shape of the model: (None, 71)\n"
     ]
    }
   ],
   "source": [
    "print(\"X_train shape:\", X_train.shape)\n",
    "print(\"y_train shape:\", y_train.shape)\n",
    "print(\"Input shape of the model:\", model.input_shape)\n"
   ]
  },
  {
   "cell_type": "code",
   "execution_count": null,
   "metadata": {},
   "outputs": [
    {
     "name": "stdout",
     "output_type": "stream",
     "text": [
      "Unique values in y_train: [False  True]\n",
      "Unique values in y_test: [False  True]\n"
     ]
    }
   ],
   "source": [
    "\n",
    "print(\"Unique values in y_train:\", np.unique(y_train))\n",
    "print(\"Unique values in y_test:\", np.unique(y_test))\n"
   ]
  },
  {
   "cell_type": "code",
   "execution_count": null,
   "metadata": {},
   "outputs": [],
   "source": [
    "# Fonction pour trouver la réponse à une question\n",
    "def get_answer(question):\n",
    "    # Prétraitement de la question\n",
    "    question = preprocess_text(question)\n",
    "    texts = data['Symptoms'] + ' ' + data['Treatments'] + ' ' + data['Name']\n",
    "    # Vectorisation des textes\n",
    "    vectorizer = TfidfVectorizer()\n",
    "    X = vectorizer.fit_transform(texts)\n",
    "    question_vector = vectorizer.transform([question])\n",
    "    # Calcul de la similarité cosinus entre la question et les textes\n",
    "    similarities = cosine_similarity(X, question_vector)\n",
    "    # Récupération de l'index de la réponse la plus similaire\n",
    "    idx = similarities.argmax()\n",
    "    return data.iloc[idx]['Name'], data.iloc[idx]['Symptoms'], data.iloc[idx]['Treatments']\n"
   ]
  }
 ],
 "metadata": {
  "kernelspec": {
   "display_name": "Python 3",
   "language": "python",
   "name": "python3"
  },
  "language_info": {
   "codemirror_mode": {
    "name": "ipython",
    "version": 3
   },
   "file_extension": ".py",
   "mimetype": "text/x-python",
   "name": "python",
   "nbconvert_exporter": "python",
   "pygments_lexer": "ipython3",
   "version": "3.11.9"
  }
 },
 "nbformat": 4,
 "nbformat_minor": 2
}
